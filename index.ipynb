{
 "cells": [
  {
   "cell_type": "markdown",
   "metadata": {},
   "source": [
    "# Data Visualization - Lab\n",
    "\n",
    "## Introduction\n",
    "This lab will give you some structured practice working with the concepts introduced in the previous lesson.\n",
    "\n",
    "## Objectives\n",
    "You will be able to:\n",
    "* Understand matplotlib plot structure for drawing basic plots.\n",
    "* Visualize data using scatterplots, barplots and histograms\n",
    "\n",
    "## Exercise 1\n",
    "\n",
    "Make a vertical bar graph using `plt.bar()` for the following set of data:\n",
    "\n",
    ">Jim's Video Library contains 40 crime/mystery, 30 science fiction, 10 drama, 50 comedy, 25 action and 5 documentary movies.\n",
    "\n",
    "* Set a figure size of 8x6 inches\n",
    "* Set x-axis (genres) and y-axis (number of movies)\n",
    "* Plot and label the bar graph\n",
    "* Provide a suitable title\n",
    "* Label x and y-axis\n"
   ]
  },
  {
   "cell_type": "code",
   "execution_count": 5,
   "metadata": {},
   "outputs": [
    {
     "data": {
      "image/png": "[encoded data removed]",
      "text/plain": [
       "<Figure size 432x288 with 1 Axes>"
      ]
     },
     "metadata": {
      "needs_background": "light"
     },
     "output_type": "display_data"
    }
   ],
   "source": [
    "# import the required libraries\n",
    "import numpy as np\n",
    "import matplotlib.pyplot as plt\n",
    "\n",
    "y = [40,30,10,50,25,5]\n",
    "x = ['Crime', 'Sci/fi', 'Drama', 'Comedy', 'Action', 'Documentary' ]\n",
    "plt.bar(x, y)\n",
    "plt.ylabel('# of movies')\n",
    "plt.xlabel(\"genre\")\n",
    "\n",
    "plt.show()\n",
    "# Set a figure size\n",
    "\n",
    "# Plot vertical bars of fixed width by passing x and y values to .bar() function \n",
    "\n",
    "# Give a title to the bar graph\n",
    "\n",
    "# Output the final plot\n"
   ]
  },
  {
   "cell_type": "markdown",
   "metadata": {},
   "source": [
    "## Exercise 2\n",
    "\n",
    "The table shows the data collected by a Consumer Products Group on the relationship between the weight of a car and its average gas mileage.\n",
    "\n",
    "      Car Type  Weight\tmiles per gallon\n",
    "        A\t    2750\t   29\n",
    "        B\t    3125\t   23\n",
    "        C\t    2100\t   33\n",
    "        D\t    4082\t   18\n",
    "        E\t    2690\t   20\n",
    "        F\t    3640\t   21\n",
    "        G\t    4380\t   14\n",
    "        H\t    2241\t   25\n",
    "        I\t    2895\t   31\n",
    "        J\t    3659\t   17\n",
    "        \n",
    "* Use a scatter plot to show the relationship between mpg and weight of a car. \n",
    "* Set an appropriate figure size, labels for axes and the plot.\n",
    "* Give a title to the plot\n",
    "\n",
    "Looking the scatter plot, how would you describe the relationship between these two attributes?"
   ]
  },
  {
   "cell_type": "code",
   "execution_count": 6,
   "metadata": {},
   "outputs": [
    {
     "data": {
      "image/png": "[encoded data removed]",
      "text/plain": [
       "<Figure size 432x288 with 1 Axes>"
      ]
     },
     "metadata": {
      "needs_background": "light"
     },
     "output_type": "display_data"
    }
   ],
   "source": [
    "weight = [2750, 3125, 2100, 4082, 2690, 3640, 4380, 2241, 2895, 3659]\n",
    "mpg = [29, 23, 33, 28, 20, 21, 14, 25, 31, 17]\n",
    "\n",
    "plt.scatter(weight, mpg, label = \"relationship\")\n",
    "plt.title(\"Exercise 2\")\n",
    "plt.legend()\n",
    "plt.show()\n",
    "# Set the figure size in inches\n",
    "\n",
    "# Plot with scatter()\n",
    "\n",
    "# Set x and y axes labels and give titles\n"
   ]
  },
  {
   "cell_type": "markdown",
   "metadata": {},
   "source": [
    "## Exercise 3\n",
    "\n",
    "Joe is the branch manager at a bank. Recently, Joe been receiving customer feedback saying that the waiting times for a client to be served by a customer service representative are too long. Joe decides to observe and write down the time spent by each customer on waiting. Here are his findings from observing and writing down the wait times (in seconds), spent by 20 customers:\n",
    "\n",
    "43.1, 35.6, 37.5, 36.5, 45.3, 43.4, 40.3, 50.2, 47.3, 31.2, 42.2, 45.5, 30.3, 31.4, 35.6, 45.2, 54.1, 45.6, 36.5, 43.1\n",
    "\n",
    "* Build a histogram of these values using the `hist()` function\n",
    "* Plot, label and give a title as above. Use  `bins=5`\n",
    "* Briefly describe the output in terms of waiting times. \n"
   ]
  },
  {
   "cell_type": "code",
   "execution_count": 8,
   "metadata": {},
   "outputs": [
    {
     "data": {
      "image/png": "[encoded data removed]",
      "text/plain": [
       "<Figure size 432x288 with 1 Axes>"
      ]
     },
     "metadata": {
      "needs_background": "light"
     },
     "output_type": "display_data"
    }
   ],
   "source": [
    "x = [43.1, 35.6, 37.5, 36.5, 45.3, 43.4, 40.3, 50.2, 47.3, 31.2, 42.2, 45.5, 30.3, 31.4, 35.6, 45.2, 54.1, 45.6, 36.5, 43.1]\n",
    "\n",
    "plt.hist(x, bins = 5)\n",
    "plt.xlabel(\"Waiting time\")\n",
    "plt.ylabel(\"customer\")\n",
    "plt.title(\"time spent on customer\")\n",
    "plt.show()\n",
    "\n",
    "#Plot the distogram with hist() function\n",
    "\n",
    "# Label, give title and show the plot\n"
   ]
  },
  {
   "cell_type": "markdown",
   "metadata": {},
   "source": [
    "## Summary\n",
    "\n",
    "Hopefully this lab has given you some good practice working with creating plots in Python using Matplotlib."
   ]
  }
 ],
 "metadata": {
  "kernelspec": {
   "display_name": "Python 3",
   "language": "python",
   "name": "python3"
  },
  "language_info": {
   "codemirror_mode": {
    "name": "ipython",
    "version": 3
   },
   "file_extension": ".py",
   "mimetype": "text/x-python",
   "name": "python",
   "nbconvert_exporter": "python",
   "pygments_lexer": "ipython3",
   "version": "3.6.6"
  }
 },
 "nbformat": 4,
 "nbformat_minor": 2
}
